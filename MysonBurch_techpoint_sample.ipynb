{
 "cells": [
  {
   "cell_type": "code",
   "execution_count": 1,
   "metadata": {},
   "outputs": [],
   "source": [
    "# Author: Myson Burch\n",
    "# Last Modified: 10/13/2018\n",
    "\n",
    "# Objective:\n",
    "# Review the data set, and draw any conclusions you can find from the data set.\n",
    "# 1) Try to identify the most popular scooter location\n",
    "# 2) demonstrate your findings using data visualization tools\n",
    "# 3) calculate operation time cost (Operation Time Cost: How long it takes to fully charge all the scooters)\n",
    "# 4) come up with the most efficient scooter charging strategy.\n",
    "\n",
    "# Submission Directions:\n",
    "# Prepare your conclusions from the data set\n",
    "# Your research and conclusions should be submitted as a link to a github repository\n",
    "# It is encouraged that your repository hosts a Jupyter (formerly iPython) notebook."
   ]
  },
  {
   "cell_type": "code",
   "execution_count": 2,
   "metadata": {},
   "outputs": [],
   "source": [
    "%matplotlib inline\n",
    "\n",
    "from mpl_toolkits.mplot3d import Axes3D\n",
    "import matplotlib\n",
    "matplotlib.use('Agg')\n",
    "import matplotlib.pyplot as plt\n",
    "\n",
    "import pandas as pd\n",
    "import numpy as np\n",
    "import sys, csv, os, math, subprocess, itertools, time, random"
   ]
  },
  {
   "cell_type": "code",
   "execution_count": 3,
   "metadata": {},
   "outputs": [
    {
     "name": "stdout",
     "output_type": "stream",
     "text": [
      "(25668, 4)\n",
      " \n",
      "   scooter_id  xcoordinate  ycoordinate  power_level\n",
      "0           0     0.906835     0.776484            0\n",
      "1           1     0.928587     0.804964            2\n",
      "2           2     0.904091     0.784043            1\n",
      "3           3     0.906752     0.804461            0\n",
      "4           4     0.900641     0.781683            4\n",
      " \n",
      "         scooter_id   xcoordinate   ycoordinate   power_level\n",
      "count  25668.000000  25668.000000  25668.000000  25668.000000\n",
      "mean   12833.500000      0.491567      0.437083      2.496065\n",
      "std     7409.857691      0.474552      0.515695      1.719245\n",
      "min        0.000000     -0.300062     -0.290196      0.000000\n",
      "25%     6416.750000      0.211375     -0.025581      1.000000\n",
      "50%    12833.500000      0.403102      0.312886      2.000000\n",
      "75%    19250.250000      0.929187      0.883513      4.000000\n",
      "max    25667.000000      1.369517      1.357176      5.000000\n"
     ]
    }
   ],
   "source": [
    "# Load in the data \n",
    "scooter_data = pd.read_csv('2019-XTern- Work Sample Assessment Data Science-DS.csv')\n",
    "\n",
    "# Checked for any null values but there were none so assuming this going forward \n",
    "# scooter_data.dropna()\n",
    "\n",
    "# Look at some general information about the data\n",
    "print(scooter_data.shape)\n",
    "print(' ')\n",
    "print(scooter_data.head())\n",
    "print(' ')\n",
    "print(scooter_data.describe())"
   ]
  },
  {
   "cell_type": "code",
   "execution_count": 4,
   "metadata": {},
   "outputs": [
    {
     "data": {
      "text/plain": [
       "xcoordinate  ycoordinate\n",
       "-0.300062    0.023457       1\n",
       "-0.296863    0.019530       1\n",
       "-0.292356    0.011618       1\n",
       "-0.289945    0.030028       1\n",
       "-0.289249    0.028089       1\n",
       "-0.287271    0.017238       1\n",
       "-0.287068    0.043936       1\n",
       "-0.286689    0.016322       1\n",
       "-0.286688    0.024083       1\n",
       "-0.286404    0.013409       1\n",
       "-0.286272    0.030051       1\n",
       "-0.286010    0.028021       1\n",
       "-0.285713    0.012381       1\n",
       "-0.285698    0.029292       1\n",
       "-0.285693    0.025639       1\n",
       "-0.285535    0.024206       1\n",
       "-0.285346    0.031370       1\n",
       "-0.285266    0.031667       1\n",
       "-0.285194    0.019801       1\n",
       "-0.285120    0.017358       1\n",
       "-0.285036    0.028278       1\n",
       "-0.285029    0.012917       1\n",
       "-0.284965    0.018872       1\n",
       "-0.284532    0.013503       1\n",
       "-0.284527    0.025511       1\n",
       "-0.284416    0.038427       1\n",
       "-0.284312    0.019447       1\n",
       "-0.283791    0.012598       1\n",
       "-0.283576    0.014815       1\n",
       "-0.283572    0.044570       1\n",
       "                           ..\n",
       " 1.362107    0.893335       1\n",
       " 1.362263    0.860405       1\n",
       " 1.362271    0.896812       1\n",
       " 1.362287    0.900198       1\n",
       " 1.362401    0.882503       1\n",
       " 1.362665    0.881698       1\n",
       " 1.362683    0.888866       1\n",
       " 1.362699    0.867026       1\n",
       " 1.362724    0.872164       1\n",
       " 1.362831    0.895800       1\n",
       " 1.363219    0.876323       1\n",
       " 1.363358    0.878216       1\n",
       " 1.363512    0.873603       1\n",
       " 1.363607    0.888382       1\n",
       " 1.363709    0.897319       1\n",
       " 1.363871    0.883102       1\n",
       " 1.363950    0.882071       1\n",
       " 1.364342    0.879757       1\n",
       " 1.364646    0.868480       1\n",
       " 1.365012    0.889684       1\n",
       " 1.365212    0.882152       1\n",
       " 1.365348    0.880333       1\n",
       " 1.365552    0.867449       1\n",
       " 1.365694    0.882246       1\n",
       " 1.365704    0.868558       1\n",
       " 1.366102    0.868425       1\n",
       " 1.366703    0.896834       1\n",
       " 1.368249    0.870617       1\n",
       " 1.369320    0.881685       1\n",
       " 1.369517    0.874072       1\n",
       "Length: 25668, dtype: int64"
      ]
     },
     "execution_count": 4,
     "metadata": {},
     "output_type": "execute_result"
    }
   ],
   "source": [
    "# So just looking at this preview of the data, we can see that there are \n",
    "# over 25k scooters with an average charge of ~2.5 so about half\n",
    "# Now we can try to find the most popular scooter location by doing the following:\n",
    "\n",
    "# # This command will give us the most popular xcoordinate \n",
    "# scooter_data.xcoordinate.value_counts()\n",
    "# # This command will give us the most popular ycoordinate\n",
    "# scooter_data.ycoordinate.value_counts()\n",
    "\n",
    "# Here we can see that each set of coordinates is unique so this may not be the \n",
    "# best way to determine the most popular location (next try plotting coordinates and infer)\n",
    "scooter_data.groupby(['xcoordinate', 'ycoordinate']).size()"
   ]
  },
  {
   "cell_type": "code",
   "execution_count": 5,
   "metadata": {},
   "outputs": [
    {
     "data": {
      "text/plain": [
       "Text(0, 0.5, 'Y Coord')"
      ]
     },
     "execution_count": 5,
     "metadata": {},
     "output_type": "execute_result"
    },
    {
     "data": {
      "image/png": "[encoded data removed]",
      "text/plain": [
       "<Figure size 432x288 with 1 Axes>"
      ]
     },
     "metadata": {},
     "output_type": "display_data"
    }
   ],
   "source": [
    "# Setting the plot style \n",
    "plt.style.use('seaborn-darkgrid')\n",
    "# Plotting the points of interest \n",
    "plt.scatter(scooter_data.xcoordinate.values, scooter_data.ycoordinate.values, marker='o', color='r', s=15, alpha=0.3)\n",
    "plt.scatter(scooter_data.xcoordinate.mean(), scooter_data.ycoordinate.mean(), marker='o', color='b', label='mean location',s=15, alpha=0.3)\n",
    "# Label the axes \n",
    "plt.legend()\n",
    "plt.xlabel('X Coord')\n",
    "plt.ylabel('Y Coord')\n",
    "\n",
    "# Interestingly, we can see that the scooters all form very dense small clusters so \n",
    "# they seem to be well distributed in the city/town/area and each small cluster \n",
    "# also seems to have similar number of scooters so it does not seem that there is a 'most' popular location\n",
    "# but each location is equally popular \n",
    "\n",
    "# If we performed a clustering algorithm, we will see \n",
    "# the scooters clustered between 2 and maybe 4 clusters and then we could count the \n",
    "# number of scooters in each larger cluster and make that cluster a 'location' that is most popular"
   ]
  },
  {
   "cell_type": "code",
   "execution_count": 6,
   "metadata": {},
   "outputs": [
    {
     "name": "stdout",
     "output_type": "stream",
     "text": [
      "Number of scooters in area 0:  11936\n",
      "Number of scooters in area 1:  13732\n"
     ]
    },
    {
     "data": {
      "image/png": "[encoded data removed]",
      "text/plain": [
       "<Figure size 432x288 with 1 Axes>"
      ]
     },
     "metadata": {},
     "output_type": "display_data"
    }
   ],
   "source": [
    "# Clustering \n",
    "from sklearn.cluster import KMeans\n",
    "X = scooter_data.values[:,1:3]\n",
    "# print(X)\n",
    "kmeans = KMeans(n_clusters=2)\n",
    "kmeans.fit(X)\n",
    "pred_cluster = kmeans.predict(X)\n",
    "\n",
    "groups = [0, 1]\n",
    "colors = ['b','r']\n",
    "c_dict = dict(zip(groups, colors))\n",
    "\n",
    "for elem in groups:\n",
    "    idx = np.where(pred_cluster == elem)[0]\n",
    "    plt.scatter(X[idx,0], X[idx,1], c=c_dict[elem], label=elem, s=15, alpha=0.3)\n",
    "plt.legend()\n",
    "\n",
    "# plt.scatter(X[:,0], X[:,1], c=pred_cluster, s=15,alpha=0.3, cmap='viridis')\n",
    "\n",
    "scooter_counts = np.unique(pred_cluster, return_counts=True)\n",
    "print('Number of scooters in area 0: ', scooter_counts[1][0])\n",
    "print('Number of scooters in area 1: ', scooter_counts[1][1])\n",
    "\n",
    "# Here, area 0 (the blue cluster of scooters) is the more popular location "
   ]
  },
  {
   "cell_type": "code",
   "execution_count": 7,
   "metadata": {},
   "outputs": [
    {
     "name": "stdout",
     "output_type": "stream",
     "text": [
      "Number of scooters in area 0:  5813\n",
      "Number of scooters in area 1:  4886\n",
      "Number of scooters in area 2:  7919\n",
      "Number of scooters in area 3:  7050\n"
     ]
    },
    {
     "data": {
      "image/png": "[encoded data removed]",
      "text/plain": [
       "<Figure size 432x288 with 1 Axes>"
      ]
     },
     "metadata": {},
     "output_type": "display_data"
    }
   ],
   "source": [
    "kmeans = KMeans(n_clusters=4)\n",
    "kmeans.fit(X)\n",
    "pred_cluster = kmeans.predict(X)\n",
    "\n",
    "groups = [0, 1, 2, 3]\n",
    "colors = ['b','r', 'g', 'y']\n",
    "c_dict = dict(zip(groups, colors))\n",
    "\n",
    "for elem in groups:\n",
    "    idx = np.where(pred_cluster == elem)[0]\n",
    "    plt.scatter(X[idx,0], X[idx,1], c=c_dict[elem], label=elem, s=15, alpha=0.3)\n",
    "plt.legend()\n",
    "\n",
    "scooter_counts = np.unique(pred_cluster, return_counts=True)\n",
    "print('Number of scooters in area 0: ', scooter_counts[1][0])\n",
    "print('Number of scooters in area 1: ', scooter_counts[1][1])\n",
    "print('Number of scooters in area 2: ', scooter_counts[1][2])\n",
    "print('Number of scooters in area 3: ', scooter_counts[1][3])\n",
    "\n",
    "# Here, area 0 (the blue cluster of scooters) is the more popular location "
   ]
  },
  {
   "cell_type": "code",
   "execution_count": 8,
   "metadata": {},
   "outputs": [
    {
     "name": "stdout",
     "output_type": "stream",
     "text": [
      "Case 0 Operation time (hours):  5.0\n"
     ]
    }
   ],
   "source": [
    "# With that analysis complete, we now can try to compute the operation time cost (how long to fully charge all scooters)\n",
    "\n",
    "# Many assumptions have to be made at this point since the problem does not define the full capabilities of the bus\n",
    "# So lets assume that the cost is composed only of the travel from the bus station to the scooters,\n",
    "# charging the scooters and then traveling back (we are also assuming all coordinates in miles)\n",
    "\n",
    "# Let us also assume that it takes a rate of 1 hour per 1 level of power to charger the scooter\n",
    "\n",
    "# So as a base case (Case 0), lets assume that the bus can instantly pick up all the scooters at the mean location, \n",
    "# travel back to the station, charge them and then drop them off. The timing would be as follows:\n",
    "\n",
    "# Time = Distance / Rate\n",
    "bus_travel = (math.sqrt((20.19-scooter_data.xcoordinate.mean())**2+(20.19-scooter_data.ycoordinate.mean())**2))/50.0\n",
    "\n",
    "# assuming that I can charge all of the scooters I have at once just means \n",
    "# that charging time will only be limited by the lowest charge scooter \n",
    "charge_time = 5.0 - scooter_data.power_level.min()\n",
    "\n",
    "# multiplying by 2 because bus needs to drop scooters off (could be 3 if including parking the bus at the end)\n",
    "# We are taking the max because we assume that the bus charges the scooters as it is driving so the total \n",
    "# time taken will be the max between driving time and charging time.\n",
    "\n",
    "# The idea here is that the bus picks up the scooters and can only park in the station (20.19,20.19)\n",
    "# but then heads out to drop off the scooters such that once the bus arrives back at the location that the\n",
    "# scooters will be charges (multi-tasking)\n",
    "total_time = max(2*bus_travel, charge_time)\n",
    "print('Case 0 Operation time (hours): ', total_time)\n",
    "\n",
    "# This time is obviously naiive because assuming a bus can carry over 25k scooters is not reasonable.\n",
    "# This means that we have to consider multiple trips.\n",
    "# It is also naiive because we assumed that the bus could travel to the mean location to pick up the scooters."
   ]
  },
  {
   "cell_type": "code",
   "execution_count": 9,
   "metadata": {},
   "outputs": [],
   "source": [
    "# From here, we can add constraints to the bus that will of course add to the time and call for a more efficient strategy.\n",
    "\n",
    "# STRATEGY IDEA:\n",
    "# So first, we need to contstrain the number of scooters that the bus can handle to simulate limited space.\n",
    "# Lets say the size of each of the little dense clusters. Another constraint would be fuel but assuming \n",
    "# infinite or VERY efficient here.\n",
    "\n",
    "# Since there is no restriction on actually having to put the scooters back where we picked them up,\n",
    "# we can think that the bus picks up scooters and charges them as it drives to another location and drops the \n",
    "# charged scooters up and picks up ones that need charging (rinse and repeat until completion).\n",
    "\n",
    "# Given that the clusters (scooters) are very close together, they will not be charged by the time the bus goes from \n",
    "# one scooter cluster to the next so it will have to go to the parking station many times and wait for the scooters to charge\n",
    "# and go back and pick up more and repeat this process. \n",
    "\n",
    "# With the bus going 50 mi/hr, it can drive to park much faster than the scooters charge to full so a lot of time \n",
    "# is spent with the bus being idle, full and parked. We can see by this design the most time we are looking at is \n",
    "# the number of clusters times 5 hours (assuming we have scooters that are on empty). \n",
    "\n",
    "# This strategy can continue to get complex as we think about scenarios where we dont have fully empty scooters, \n",
    "# where we have some that are fully charged and some that aren't so the bus goes back to the area to get more \n",
    "# scooters that need to be charged, multiple drivers/buses etc. \n",
    "\n",
    "# So we have bouded our operation cost between 5.0 hours (infeasible) and approximately 100.0 hours.\n",
    "# The upper bound gets much better as we keep tightening the constraints and using the bus more efficiently but this is \n",
    "# the worst case. "
   ]
  },
  {
   "cell_type": "code",
   "execution_count": null,
   "metadata": {},
   "outputs": [],
   "source": []
  }
 ],
 "metadata": {
  "kernelspec": {
   "display_name": "Python 3",
   "language": "python",
   "name": "python3"
  },
  "language_info": {
   "codemirror_mode": {
    "name": "ipython",
    "version": 3
   },
   "file_extension": ".py",
   "mimetype": "text/x-python",
   "name": "python",
   "nbconvert_exporter": "python",
   "pygments_lexer": "ipython3",
   "version": "3.6.7"
  }
 },
 "nbformat": 4,
 "nbformat_minor": 2
}
